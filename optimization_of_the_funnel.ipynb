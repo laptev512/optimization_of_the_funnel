{
 "cells": [
  {
   "cell_type": "code",
   "execution_count": 3,
   "id": "1425a0e4",
   "metadata": {},
   "outputs": [],
   "source": [
    "# default.peas\n",
    "\n",
    "# Название атрибута   Тип атрибута   Смысловое значение\n",
    "\n",
    "# st_id               int            ID ученика\n",
    "# timest              timestamp      Время решения карточки\n",
    "# correct             bool           Правильно ли решено задание?\n",
    "# subject             text           Дисциплина, в которой находится задание"
   ]
  },
  {
   "cell_type": "code",
   "execution_count": 4,
   "id": "7ac8fd4c",
   "metadata": {},
   "outputs": [],
   "source": [
    "# default.studs\n",
    "\n",
    "# Название атрибута    Тип атрибута     Смысловое значение\n",
    "\n",
    "# st_id                int              ID ученика\n",
    "# test_grp             text             Метка ученика в данном эксперименте"
   ]
  },
  {
   "cell_type": "code",
   "execution_count": 5,
   "id": "19ad0293",
   "metadata": {},
   "outputs": [],
   "source": [
    "# default.final_project_check\n",
    "\n",
    "# Название атрибута    Тип атрибута     Смысловое значение\n",
    "\n",
    "# st_id                int              ID ученика\n",
    "# sale_time            timestamp        Время покупки\n",
    "# money                int              Цена, по которой приобрели данный курс\n",
    "# subject              text   "
   ]
  },
  {
   "cell_type": "code",
   "execution_count": null,
   "id": "654ba228",
   "metadata": {},
   "outputs": [],
   "source": [
    "print(\"\"\"\"SELECT\n",
    "    t_1.test_grp AS group,\n",
    "    SUM(t_2.money)/COUNT(t_1.st_id) AS ARPU,\n",
    "    SUM(t_2.money)/COUNT(CASE WHEN t_3.buy > 0 THEN 1 end) AS ARPPU,\n",
    "    COUNT(CASE WHEN t_3.buy > 0 THEN 1 END)/COUNT(t_1.st_id) * 100 AS CR,\n",
    "    COUNT(CASE WHEN t_1.active > 10 THEN 1 end)/COUNT(t_1.st_id) * 100 AS CR_active,\n",
    "    COUNT(CASE WHEN t_4.math_buy > 0 THEN 1 END)/COUNT(CASE WHEN t_1.math_active >= 2 THEN 1 END) * 100 AS CR_math_buy\n",
    "FROM\n",
    "(SELECT\n",
    "    t_1.st_id,\n",
    "    t_1.test_grp,\n",
    "    t_1.active,\n",
    "    t_1.math_active,\n",
    "    t_2.money,\n",
    "    t_3.buy,\n",
    "    t_4.math_buy\n",
    "FROM\n",
    "    (SELECT\n",
    "        s.st_id,\n",
    "        s.test_grp,\n",
    "        SUM(p.correct) AS active,\n",
    "        SUM(CASE\n",
    "            WHEN p.correct = 1 AND p.subject = 'Math' THEN 1\n",
    "            ELSE 0\n",
    "        END) AS math_active\n",
    "    FROM\n",
    "        studs AS s\n",
    "    LEFT JOIN peas AS p\n",
    "    ON s.st_id = p.st_id\n",
    "    GROUP BY\n",
    "        s.test_grp,\n",
    "        s.st_id) AS t_1\n",
    "    LEFT JOIN\n",
    "    (SELECT\n",
    "        st_id,\n",
    "        SUM(money) AS money\n",
    "    FROM\n",
    "        final_project_check\n",
    "    GROUP BY\n",
    "        st_id) AS t_2\n",
    "    ON t_1.st_id = t_2.st_id\n",
    "    LEFT JOIN\n",
    "    (SELECT\n",
    "        st_id,\n",
    "        COUNT(money) AS buy\n",
    "    FROM\n",
    "        final_project_check\n",
    "    GROUP BY\n",
    "        st_id) AS t_3\n",
    "    ON t_1.st_id = t_3.st_id\n",
    "    LEFT JOIN\n",
    "    (SELECT\n",
    "        st_id,\n",
    "        SUM(CASE\n",
    "            WHEN money != 0 AND subject = 'Math' THEN 1\n",
    "            ELSE 0\n",
    "        END) AS math_buy\n",
    "    FROM\n",
    "        final_project_check\n",
    "    GROUP BY\n",
    "        st_id) AS t_4\n",
    "    ON t_1.st_id = t_4.st_id)\n",
    "GROUP BY\n",
    "    t_1.test_grp\"\"\")\n"
   ]
  },
  {
   "cell_type": "markdown",
   "id": "461726e6",
   "metadata": {},
   "source": [
    "**Логика запроса:** \n",
    "- Сначала создаем общую таблицу с нашими уникальными пользователями с присвоением группы\n",
    "- Для подсчета метрик, присваиваем каждому пользователю нужные параметры согласно условиям из задачи (активный, активный по математике, купил курсы, факт покупки, купил курс по математике)\n",
    "- Согласно формулам рассчитывем все метрики"
   ]
  },
  {
   "cell_type": "code",
   "execution_count": null,
   "id": "e59a1ed8",
   "metadata": {},
   "outputs": [],
   "source": []
  }
 ],
 "metadata": {
  "kernelspec": {
   "display_name": "Python 3 (ipykernel)",
   "language": "python",
   "name": "python3"
  },
  "language_info": {
   "codemirror_mode": {
    "name": "ipython",
    "version": 3
   },
   "file_extension": ".py",
   "mimetype": "text/x-python",
   "name": "python",
   "nbconvert_exporter": "python",
   "pygments_lexer": "ipython3",
   "version": "3.9.12"
  }
 },
 "nbformat": 4,
 "nbformat_minor": 5
}
